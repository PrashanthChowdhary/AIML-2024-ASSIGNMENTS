{
  "nbformat": 4,
  "nbformat_minor": 0,
  "metadata": {
    "colab": {
      "provenance": []
    },
    "kernelspec": {
      "name": "python3",
      "display_name": "Python 3"
    },
    "language_info": {
      "name": "python"
    }
  },
  "cells": [
    {
      "cell_type": "code",
      "execution_count": 2,
      "metadata": {
        "id": "ivMrT12JPkqv"
      },
      "outputs": [],
      "source": [
        "import pandas as pd\n"
      ]
    },
    {
      "cell_type": "code",
      "source": [
        "data = {\n",
        "    'Gender': [1, 1, 1, 1, 1, 1, 1, 1, 1, 2, 2, 2, 2, 2, 2],\n",
        "    'AgeRange': [1, 1, 1, 1, 1, 1, 1, 1, 2, 2, 2, 2, 2, 2, 2],\n",
        "    'HeadSize(cm^3)': [4512, 3738, 4261, 3777, 4177, 3585, 3785, 3559, 3613, 3982, 3443, 3993, 3640, 4208, 3832],\n",
        "    'BrainWeight(grams)': [1530, 1297, 1335, 1282, 1590, 1300, 1400, 1255, 1355, 1375, 1340, 1380, 1355, 1522, 1208]\n",
        "}"
      ],
      "metadata": {
        "id": "tWpUGlnCPnKr"
      },
      "execution_count": 3,
      "outputs": []
    },
    {
      "cell_type": "code",
      "source": [
        "df = pd.DataFrame(data)\n"
      ],
      "metadata": {
        "id": "-tXY7KH0Pqgh"
      },
      "execution_count": 4,
      "outputs": []
    },
    {
      "cell_type": "code",
      "source": [
        "for column in ['HeadSize(cm^3)', 'BrainWeight(grams)']:\n",
        "    df[column] = (df[column] - df[column].min()) / (df[column].max() - df[column].min())\n",
        "\n",
        "print(df)\n"
      ],
      "metadata": {
        "colab": {
          "base_uri": "https://localhost:8080/"
        },
        "id": "5-gRvAQvPuXH",
        "outputId": "2d57e3de-91d9-43d5-a810-af605ff15809"
      },
      "execution_count": 5,
      "outputs": [
        {
          "output_type": "stream",
          "name": "stdout",
          "text": [
            "    Gender  AgeRange  HeadSize(cm^3)  BrainWeight(grams)\n",
            "0        1         1        1.000000            0.842932\n",
            "1        1         1        0.275959            0.232984\n",
            "2        1         1        0.765201            0.332461\n",
            "3        1         1        0.312442            0.193717\n",
            "4        1         1        0.686623            1.000000\n",
            "5        1         1        0.132834            0.240838\n",
            "6        1         1        0.319925            0.502618\n",
            "7        1         1        0.108513            0.123037\n",
            "8        1         2        0.159027            0.384817\n",
            "9        2         2        0.504210            0.437173\n",
            "10       2         2        0.000000            0.345550\n",
            "11       2         2        0.514500            0.450262\n",
            "12       2         2        0.184284            0.384817\n",
            "13       2         2        0.715622            0.821990\n",
            "14       2         2        0.363891            0.000000\n"
          ]
        }
      ]
    }
  ]
}