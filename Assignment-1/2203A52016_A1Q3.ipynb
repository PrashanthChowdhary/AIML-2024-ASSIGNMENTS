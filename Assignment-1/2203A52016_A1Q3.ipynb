{
  "nbformat": 4,
  "nbformat_minor": 0,
  "metadata": {
    "colab": {
      "provenance": []
    },
    "kernelspec": {
      "name": "python3",
      "display_name": "Python 3"
    },
    "language_info": {
      "name": "python"
    }
  },
  "cells": [
    {
      "cell_type": "code",
      "execution_count": 7,
      "metadata": {
        "id": "97ZNA1LASNjt"
      },
      "outputs": [],
      "source": [
        "import pandas as pd\n"
      ]
    },
    {
      "cell_type": "code",
      "source": [
        "#CSV\n",
        "csv_data = pd.read_csv('/DetailQ3.csv')\n"
      ],
      "metadata": {
        "id": "PtqAkNGkWSAU"
      },
      "execution_count": 8,
      "outputs": []
    },
    {
      "cell_type": "code",
      "source": [
        "#URL\n",
        "url_data = pd.read_csv('https://www.kaggle.com/embed/busrabetulcavusoglu/urls-classification?cellIds=1&kernelSessionId=156089478')\n",
        "\n"
      ],
      "metadata": {
        "id": "LiwDR_DBY24O"
      },
      "execution_count": 18,
      "outputs": []
    },
    {
      "cell_type": "code",
      "source": [
        "#XLSX\n",
        "xlsx_data = pd.read_excel('/DetailQ3.xlsx')\n"
      ],
      "metadata": {
        "id": "h86M3GF5aBbO"
      },
      "execution_count": 19,
      "outputs": []
    }
  ]
}