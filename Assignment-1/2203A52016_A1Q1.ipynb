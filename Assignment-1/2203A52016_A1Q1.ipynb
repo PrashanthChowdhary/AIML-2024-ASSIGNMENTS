{
  "nbformat": 4,
  "nbformat_minor": 0,
  "metadata": {
    "colab": {
      "provenance": []
    },
    "kernelspec": {
      "name": "python3",
      "display_name": "Python 3"
    },
    "language_info": {
      "name": "python"
    }
  },
  "cells": [
    {
      "cell_type": "code",
      "execution_count": 1,
      "metadata": {
        "id": "ZNQ3aQcLG1fv"
      },
      "outputs": [],
      "source": [
        "import numpy as np\n",
        "import pandas as pd"
      ]
    },
    {
      "cell_type": "code",
      "source": [
        "#List and it's Type\n",
        "list1 = [1,2,3,4,5]\n",
        "list2 = [6,7,8,9,10]\n",
        "print(type(list1))"
      ],
      "metadata": {
        "colab": {
          "base_uri": "https://localhost:8080/"
        },
        "id": "0wUFYJstHEy2",
        "outputId": "401baae4-27ae-4fef-c326-736a647877d0"
      },
      "execution_count": 3,
      "outputs": [
        {
          "output_type": "stream",
          "name": "stdout",
          "text": [
            "<class 'list'>\n"
          ]
        }
      ]
    },
    {
      "cell_type": "code",
      "source": [
        "#Addition of list\n",
        "list_addition = list1 + list2\n",
        "print(list_addition)"
      ],
      "metadata": {
        "colab": {
          "base_uri": "https://localhost:8080/"
        },
        "id": "eOPFZ01THnj-",
        "outputId": "dfc8a477-f0b5-4a91-8582-722fbbe0a8b2"
      },
      "execution_count": 8,
      "outputs": [
        {
          "output_type": "stream",
          "name": "stdout",
          "text": [
            "[1, 2, 3, 4, 5, 6, 7, 8, 9, 10]\n"
          ]
        }
      ]
    },
    {
      "cell_type": "code",
      "source": [
        "array1 = np.array(list1)\n",
        "array2 = np.array(list2)\n",
        "print(\"Array1:\", array1)\n",
        "print(\"Array2:\", array2)\n",
        "print(f\"Type : {type(array1)}\")"
      ],
      "metadata": {
        "colab": {
          "base_uri": "https://localhost:8080/"
        },
        "id": "MfCGD723IVjM",
        "outputId": "89b7523b-c029-4347-b55e-c8dbee97173d"
      },
      "execution_count": 13,
      "outputs": [
        {
          "output_type": "stream",
          "name": "stdout",
          "text": [
            "Array1: [1 2 3 4 5]\n",
            "Array2: [ 6  7  8  9 10]\n",
            "Type : <class 'numpy.ndarray'>\n"
          ]
        }
      ]
    },
    {
      "cell_type": "code",
      "source": [
        "#Matheatical Operations\n",
        "print(f\"Addtion : {array1 + array2}\")\n",
        "print(f\"Subtraction : {array1 - array2}\")\n",
        "print(f\"Multiplication : {array1 * array2}\")\n",
        "print(f\"Divsion : {array1 / array2}\")"
      ],
      "metadata": {
        "colab": {
          "base_uri": "https://localhost:8080/"
        },
        "id": "xHn2F8d3IZe0",
        "outputId": "24c42685-9a2c-4193-b6aa-6d49af55e21d"
      },
      "execution_count": 14,
      "outputs": [
        {
          "output_type": "stream",
          "name": "stdout",
          "text": [
            "Addtion : [ 7  9 11 13 15]\n",
            "Subtraction : [-5 -5 -5 -5 -5]\n",
            "Multiplication : [ 6 14 24 36 50]\n",
            "Divsion : [0.16666667 0.28571429 0.375      0.44444444 0.5       ]\n"
          ]
        }
      ]
    },
    {
      "cell_type": "code",
      "source": [
        "# sine, log, log2 and exp\n",
        "print(f\"sine : {np.sin(array1)}\")\n",
        "print(f\"log : {np.log(array1)}\")\n",
        "print(f\"log of base 2 : {np.log2(array1)}\")\n",
        "print(f\"Exponent : {np.exp(array1)}\")"
      ],
      "metadata": {
        "colab": {
          "base_uri": "https://localhost:8080/"
        },
        "id": "wG3kZPpDJynC",
        "outputId": "13852a10-2505-4f47-fa3d-a6fd6293608b"
      },
      "execution_count": 18,
      "outputs": [
        {
          "output_type": "stream",
          "name": "stdout",
          "text": [
            "sine : [ 0.84147098  0.90929743  0.14112001 -0.7568025  -0.95892427]\n",
            "log : [0.         0.69314718 1.09861229 1.38629436 1.60943791]\n",
            "log of base 2 : [0.         1.         1.5849625  2.         2.32192809]\n",
            "Exponent : [  2.71828183   7.3890561   20.08553692  54.59815003 148.4131591 ]\n"
          ]
        }
      ]
    }
  ]
}