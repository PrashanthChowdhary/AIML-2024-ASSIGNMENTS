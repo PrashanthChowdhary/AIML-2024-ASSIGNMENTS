{
  "cells": [
    {
      "cell_type": "code",
      "execution_count": null,
      "metadata": {
        "colab": {
          "base_uri": "https://localhost:8080/"
        },
        "id": "4YeA3yEaRBmM",
        "outputId": "dd335998-5b27-44a1-e1b0-24b56d3e28ba"
      },
      "outputs": [
        {
          "name": "stdout",
          "output_type": "stream",
          "text": [
            "BFS traversal starting from vertex 0 :\n",
            "0 1 3 2 4 5 "
          ]
        }
      ],
      "source": [
        "from collections import deque\n",
        "\n",
        "def bfs(graph, start):\n",
        "    visited = set()\n",
        "    queue = deque([start])\n",
        "\n",
        "    while queue:\n",
        "        vertex = queue.popleft()\n",
        "\n",
        "        if vertex not in visited:\n",
        "            print(vertex, end=' ' )\n",
        "            visited.add(vertex)\n",
        "\n",
        "\n",
        "            queue.extend(neighbor for neighbor in graph[vertex] if neighbor not in visited)\n",
        "\n",
        "\n",
        "graph = {\n",
        "    0: [1, 3],\n",
        "    1: [0, 2, 3],\n",
        "    2: [1, 4, 5],\n",
        "    3: [0, 1, 4],\n",
        "    4: [2, 3, 5],\n",
        "    5: [2, 4]\n",
        "    }\n",
        "start_vertex = 0\n",
        "\n",
        "print(\"BFS traversal starting from vertex\", start_vertex, \":\")\n",
        "bfs(graph, start_vertex)"
      ]
    }
  ],
  "metadata": {
    "colab": {
      "provenance": []
    },
    "kernelspec": {
      "display_name": "Python 3",
      "name": "python3"
    },
    "language_info": {
      "name": "python"
    }
  },
  "nbformat": 4,
  "nbformat_minor": 0
}
