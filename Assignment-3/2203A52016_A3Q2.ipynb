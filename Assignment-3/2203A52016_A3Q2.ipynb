{
 "cells": [
  {
   "cell_type": "code",
   "execution_count": null,
   "metadata": {},
   "outputs": [],
   "source": [
    "def dfs(graph, start):\n",
    "    visited = set()\n",
    "    stack = [start]\n",
    "\n",
    "    while stack:\n",
    "        vertex = stack.pop()\n",
    "\n",
    "        if vertex not in visited:\n",
    "            print(vertex, end=' ')\n",
    "            visited.add(vertex)\n",
    "\n",
    "\n",
    "            stack.extend(neighbor for neighbor in graph[vertex] if neighbor not in visited)\n",
    "graph = {\n",
    "    'A': ['B', 'S'],\n",
    "    'B': ['A'],\n",
    "    'C': ['D', 'E', 'F', 'S'],\n",
    "    'D': ['C'],\n",
    "    'E': ['C', 'H'],\n",
    "    'F': ['C', 'G'],\n",
    "    'G': ['F', 'H', 'S'],\n",
    "    'H': ['E', 'G'],\n",
    "    'S': ['A', 'C', 'G']\n",
    "    }\n",
    "start_vertex = 'A'\n",
    "\n",
    "print(\"DFS traversal starting from vertex\", start_vertex, \":\")\n",
    "dfs(graph, start_vertex)"
   ]
  }
 ],
 "metadata": {
  "language_info": {
   "name": "python"
  }
 },
 "nbformat": 4,
 "nbformat_minor": 2
}
